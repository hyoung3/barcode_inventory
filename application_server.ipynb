{
 "cells": [
  {
   "cell_type": "markdown",
   "metadata": {},
   "source": [
    "using barcode to PC\n",
    "\n",
    "How to connect the iphone scanner app directly to an application I create which queries the internet\n",
    "for data from upc and automatically saves it into a database?\n",
    "\n",
    "It would be cool if I could scan from my phone and have the server query for the related information and store\n",
    "to a remote database. It would then be cool to have a client web app query the database and return a list of the \n",
    "items and picture of the items.\n",
    "\n",
    "What to do about the items that don't have UPC code?"
   ]
  }
 ],
 "metadata": {
  "kernelspec": {
   "display_name": "Python [conda env:Anaconda3]",
   "language": "python",
   "name": "conda-env-Anaconda3-py"
  },
  "language_info": {
   "codemirror_mode": {
    "name": "ipython",
    "version": 3
   },
   "file_extension": ".py",
   "mimetype": "text/x-python",
   "name": "python",
   "nbconvert_exporter": "python",
   "pygments_lexer": "ipython3",
   "version": "3.5.5"
  }
 },
 "nbformat": 4,
 "nbformat_minor": 2
}
