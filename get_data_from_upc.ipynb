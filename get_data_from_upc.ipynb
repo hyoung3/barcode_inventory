{
 "cells": [
  {
   "cell_type": "markdown",
   "metadata": {},
   "source": [
    "## Pulls down data associated with a UPC\n",
    "\n",
    "##### http://www.upcitemdb.com/\n",
    "\n",
    "- limited to 100 requests per day\n",
    "\n",
    "##### https://isbndb.com/apidocs#/"
   ]
  },
  {
   "cell_type": "code",
   "execution_count": 3,
   "metadata": {},
   "outputs": [],
   "source": [
    "import requests\n",
    "from urllib.parse import urljoin"
   ]
  },
  {
   "cell_type": "code",
   "execution_count": 33,
   "metadata": {},
   "outputs": [],
   "source": [
    "#root = \"https://api.barcodelookup.com/v2/\"\n",
    "#keys = ['barcode', 'brand', 'category', 'formatted', 'key']\n",
    "root = \"https://api.upcitemdb.com/prod/trial/\"\n",
    "\n",
    "#barcode = '047875840058'\n",
    "barcode = '9780802142818'\n",
    "url = urljoin(root, 'lookup?upc={}'.format(barcode))"
   ]
  },
  {
   "cell_type": "code",
   "execution_count": 34,
   "metadata": {},
   "outputs": [
    {
     "data": {
      "text/plain": [
       "'https://api.upcitemdb.com/prod/trial/lookup?upc=9780802142818'"
      ]
     },
     "execution_count": 34,
     "metadata": {},
     "output_type": "execute_result"
    }
   ],
   "source": [
    "url"
   ]
  },
  {
   "cell_type": "code",
   "execution_count": 35,
   "metadata": {},
   "outputs": [],
   "source": [
    "resp = requests.get(url)"
   ]
  },
  {
   "cell_type": "code",
   "execution_count": 36,
   "metadata": {},
   "outputs": [
    {
     "data": {
      "text/plain": [
       "200"
      ]
     },
     "execution_count": 36,
     "metadata": {},
     "output_type": "execute_result"
    }
   ],
   "source": [
    "resp.status_code"
   ]
  },
  {
   "cell_type": "code",
   "execution_count": 52,
   "metadata": {},
   "outputs": [
    {
     "data": {
      "text/plain": [
       "dict_keys(['title', 'images', 'publisher', 'ean', 'description', 'asin', 'offers', 'isbn'])"
      ]
     },
     "execution_count": 52,
     "metadata": {},
     "output_type": "execute_result"
    }
   ],
   "source": [
    "resp.json()['items'][0].keys()"
   ]
  },
  {
   "cell_type": "code",
   "execution_count": 53,
   "metadata": {},
   "outputs": [
    {
     "data": {
      "text/plain": [
       "{'code': 'OK',\n",
       " 'items': [{'asin': '0802142818',\n",
       "   'description': '',\n",
       "   'ean': '9780802142818',\n",
       "   'images': ['https://i5.walmartimages.com/asr/991a8333-9b66-42e5-891b-18ba6eb57f20_1.299a2299bdbf774c90c01d6e5855a9f3.jpeg?odnHeight=450&odnWidth=450&odnBg=FFFFFF',\n",
       "    'https://d1m60b4xe0f3nb.cloudfront.net/5d104b8a/9780802142818.jpg',\n",
       "    'http://img1.r10.io/PIC/50569185/0/1/250/50569185.jpg',\n",
       "    'http://images.biggerbooks.com/images/d/2/818/9780802142818.jpg',\n",
       "    'http://site.unbeatablesale.com/EB239/bkzn38410.gif',\n",
       "    'http://images.ecampus.com/images/d/2/818/9780802142818.jpg',\n",
       "    'https://images.betterworldbooks.com/080/The-Inheritance-of-Loss-9780802142818-md.jpg',\n",
       "    'http://covers3.booksamillion.com/covers/bam/0/80/214/281/0802142818.jpg',\n",
       "    'http://images.knetbooks.com/images/d/2/818/9780802142818.jpg',\n",
       "    'http://www.printsasiaimages.com/734715784/130406055203845yD854.jpg'],\n",
       "   'isbn': '9780802142818',\n",
       "   'offers': [{'availability': '',\n",
       "     'condition': 'New',\n",
       "     'currency': '',\n",
       "     'domain': 'printsasia.com',\n",
       "     'link': 'http://www.upcitemdb.com/norob/alink/?id=u2o253y213z28464&tid=3&seq=1526002823&plt=cba97d11713359ef0431276522108ac1',\n",
       "     'list_price': '',\n",
       "     'merchant': 'Printsasia.com',\n",
       "     'price': 17.99,\n",
       "     'shipping': '',\n",
       "     'title': 'The Inheritance of Loss',\n",
       "     'updated_t': 1432706461},\n",
       "    {'availability': '',\n",
       "     'condition': 'New',\n",
       "     'currency': '',\n",
       "     'domain': 'knetbooks.com',\n",
       "     'link': 'http://www.upcitemdb.com/norob/alink/?id=u2q243z223x2d494&tid=3&seq=1526002823&plt=3edd07631962f6259a898257beeb05ad',\n",
       "     'list_price': '',\n",
       "     'merchant': 'Knetbooks.com',\n",
       "     'price': 10,\n",
       "     'shipping': '',\n",
       "     'title': 'The Inheritance of Loss',\n",
       "     'updated_t': 1428722186},\n",
       "    {'availability': '',\n",
       "     'condition': 'New',\n",
       "     'currency': '',\n",
       "     'domain': 'booksamillion.com',\n",
       "     'link': 'http://www.upcitemdb.com/norob/alink/?id=u2t243x213y27444&tid=3&seq=1526002823&plt=7a9df5b00c77092fa57538a5a90dccee',\n",
       "     'list_price': '',\n",
       "     'merchant': 'BOOKSAMILLION.COM',\n",
       "     'price': 17,\n",
       "     'shipping': '',\n",
       "     'title': 'The Inheritance of Loss',\n",
       "     'updated_t': 1525870387},\n",
       "    {'availability': '',\n",
       "     'condition': 'New',\n",
       "     'currency': '',\n",
       "     'domain': 'betterworldbooks.com',\n",
       "     'link': 'http://www.upcitemdb.com/norob/alink/?id=u2u263v2v2x2e454&tid=3&seq=1526002823&plt=a1cbc98ad2bba832a837fcb53d2cff93',\n",
       "     'list_price': '',\n",
       "     'merchant': 'BetterWorld.com',\n",
       "     'price': 3.46,\n",
       "     'shipping': '',\n",
       "     'title': 'The Inheritance of Loss',\n",
       "     'updated_t': 1525953695},\n",
       "    {'availability': '',\n",
       "     'condition': 'New',\n",
       "     'currency': '',\n",
       "     'domain': 'ecampus.com',\n",
       "     'link': 'http://www.upcitemdb.com/norob/alink/?id=u2w213v23363d454&tid=3&seq=1526002823&plt=3e46f9e4d2289daf002195d3e495e4f7',\n",
       "     'list_price': '',\n",
       "     'merchant': 'eCampus.com',\n",
       "     'price': 11.56,\n",
       "     'shipping': '',\n",
       "     'title': 'The Inheritance of Loss',\n",
       "     'updated_t': 1525959267},\n",
       "    {'availability': '',\n",
       "     'condition': 'New',\n",
       "     'currency': '',\n",
       "     'domain': 'unbeatablesale.com',\n",
       "     'link': 'http://www.upcitemdb.com/norob/alink/?id=u2s2z2x223237444z2&tid=3&seq=1526002823&plt=b0d5a05a1f1a067951b26ad9ad8c0105',\n",
       "     'list_price': '',\n",
       "     'merchant': 'UnbeatableSale.com',\n",
       "     'price': 20.97,\n",
       "     'shipping': '',\n",
       "     'title': '0802142818 The Inheritance of Loss',\n",
       "     'updated_t': 1429064140},\n",
       "    {'availability': '',\n",
       "     'condition': 'New',\n",
       "     'currency': '',\n",
       "     'domain': 'biggerbooks.com',\n",
       "     'link': 'http://www.upcitemdb.com/norob/alink/?id=w2p25313z2z2c474&tid=3&seq=1526002823&plt=a0903493951e99b849cc34dc5236733a',\n",
       "     'list_price': '',\n",
       "     'merchant': 'BiggerBooks.com',\n",
       "     'price': 5.14,\n",
       "     'shipping': '',\n",
       "     'title': 'The Inheritance of Loss',\n",
       "     'updated_t': 1525955781},\n",
       "    {'availability': '',\n",
       "     'condition': 'New',\n",
       "     'currency': '',\n",
       "     'domain': 'rakuten.com',\n",
       "     'link': 'http://www.upcitemdb.com/norob/alink/?id=u2r2z2y213x2e4c4y2&tid=3&seq=1526002823&plt=510040ca5f583d762dfbf40cb6448440',\n",
       "     'list_price': '',\n",
       "     'merchant': 'Rakuten(Buy.com)',\n",
       "     'price': 16.72,\n",
       "     'shipping': '',\n",
       "     'title': 'The Inheritance of Loss',\n",
       "     'updated_t': 1505342059},\n",
       "    {'availability': '',\n",
       "     'condition': 'New',\n",
       "     'currency': 'GBP',\n",
       "     'domain': 'wordery.com',\n",
       "     'link': 'http://www.upcitemdb.com/norob/alink/?id=y2q2z21323x2c444&tid=3&seq=1526002823&plt=65b8c74dff1c47064b552c933c81e220',\n",
       "     'list_price': '',\n",
       "     'merchant': 'Wordery',\n",
       "     'price': 10.26,\n",
       "     'shipping': '',\n",
       "     'title': 'The Inheritance of Loss',\n",
       "     'updated_t': 1479264702},\n",
       "    {'availability': '',\n",
       "     'condition': 'New',\n",
       "     'currency': '',\n",
       "     'domain': 'walmart.com',\n",
       "     'link': 'http://www.upcitemdb.com/norob/alink/?id=u2q2z2y21343b4d4y2&tid=3&seq=1526002823&plt=4ef4c6a4b0575b9e8f172f10036a22f6',\n",
       "     'list_price': '',\n",
       "     'merchant': 'Wal-Mart.com',\n",
       "     'price': 12.24,\n",
       "     'shipping': '',\n",
       "     'title': 'The Inheritance of Loss',\n",
       "     'updated_t': 1511219788},\n",
       "    {'availability': '',\n",
       "     'condition': 'New',\n",
       "     'currency': '',\n",
       "     'domain': 'alibris.com',\n",
       "     'link': 'http://www.upcitemdb.com/norob/alink/?id=u2q26323z243b464u2&tid=3&seq=1526002823&plt=8be83dfde7e37b284eefb1ce77d8c006',\n",
       "     'list_price': '',\n",
       "     'merchant': 'Alibris',\n",
       "     'price': 0.99,\n",
       "     'shipping': '',\n",
       "     'title': 'inheritance of loss',\n",
       "     'updated_t': 1435851200},\n",
       "    {'availability': '',\n",
       "     'condition': 'New',\n",
       "     'currency': 'GBP',\n",
       "     'domain': 'alibris.co.uk',\n",
       "     'link': 'http://www.upcitemdb.com/norob/alink/?id=13t223y20353e464&tid=3&seq=1526002823&plt=5d858d2909bdfea47382d99a3936b9be',\n",
       "     'list_price': '',\n",
       "     'merchant': 'Alibris UK',\n",
       "     'price': 7.99,\n",
       "     'shipping': '',\n",
       "     'title': 'The Inheritance of Loss',\n",
       "     'updated_t': 1435873702},\n",
       "    {'availability': '',\n",
       "     'condition': 'New',\n",
       "     'currency': '',\n",
       "     'domain': 'abebooks.com',\n",
       "     'link': 'http://www.upcitemdb.com/norob/alink/?id=u2r243t2y2z2a444u2&tid=3&seq=1526002823&plt=11559267b1136add685f79488dde4d41',\n",
       "     'list_price': '',\n",
       "     'merchant': 'Abebooks',\n",
       "     'price': 3.49,\n",
       "     'shipping': '',\n",
       "     'title': 'The Inheritance of Loss',\n",
       "     'updated_t': 1522776264},\n",
       "    {'availability': '',\n",
       "     'condition': 'New',\n",
       "     'currency': '',\n",
       "     'domain': None,\n",
       "     'link': 'http://www.upcitemdb.com/norob/alink/?id=u2v253u21353f454s2&tid=3&seq=1526002823&plt=90b3bbd1e30980dddcc04fc713b90f45',\n",
       "     'list_price': '',\n",
       "     'merchant': 'knetbooks.com',\n",
       "     'price': 10,\n",
       "     'shipping': '',\n",
       "     'title': 'The Inheritance of Loss',\n",
       "     'updated_t': 1485950123}],\n",
       "   'publisher': 'Grove Press',\n",
       "   'title': 'The Inheritance of Loss'}],\n",
       " 'offset': 0,\n",
       " 'total': 1}"
      ]
     },
     "execution_count": 53,
     "metadata": {},
     "output_type": "execute_result"
    }
   ],
   "source": [
    "resp.json()"
   ]
  },
  {
   "cell_type": "code",
   "execution_count": null,
   "metadata": {},
   "outputs": [],
   "source": []
  }
 ],
 "metadata": {
  "kernelspec": {
   "display_name": "Python [conda env:Anaconda3]",
   "language": "python",
   "name": "conda-env-Anaconda3-py"
  },
  "language_info": {
   "codemirror_mode": {
    "name": "ipython",
    "version": 3
   },
   "file_extension": ".py",
   "mimetype": "text/x-python",
   "name": "python",
   "nbconvert_exporter": "python",
   "pygments_lexer": "ipython3",
   "version": "3.5.5"
  }
 },
 "nbformat": 4,
 "nbformat_minor": 2
}
